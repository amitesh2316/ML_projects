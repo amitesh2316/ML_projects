{
 "cells": [
  {
   "cell_type": "code",
   "execution_count": 47,
   "metadata": {},
   "outputs": [],
   "source": [
    "import pandas as pd\n",
    "import seaborn as sns\n",
    "import numpy as np\n",
    "from pandas import read_csv\n",
    "from pandas.plotting import scatter_matrix\n",
    "from matplotlib import pyplot\n",
    "from sklearn.model_selection import train_test_split\n",
    "from sklearn.model_selection import cross_val_score\n",
    "from sklearn.model_selection import StratifiedKFold\n",
    "from sklearn.metrics import classification_report\n",
    "from sklearn.metrics import confusion_matrix\n",
    "from sklearn.metrics import accuracy_score\n",
    "from sklearn.linear_model import LogisticRegression\n",
    "from sklearn.tree import DecisionTreeClassifier\n",
    "from sklearn.neighbors import KNeighborsClassifier\n",
    "from sklearn.discriminant_analysis import LinearDiscriminantAnalysis\n",
    "from sklearn.naive_bayes import GaussianNB\n",
    "from sklearn.svm import SVC"
   ]
  },
  {
   "cell_type": "code",
   "execution_count": 48,
   "metadata": {},
   "outputs": [],
   "source": [
    "df = pd.read_csv('balance.csv',names = ['Class Name','Left-Weight','Left-Distance','Right-Weight','Right-Distance'])"
   ]
  },
  {
   "cell_type": "code",
   "execution_count": 49,
   "metadata": {},
   "outputs": [
    {
     "data": {
      "text/html": [
       "<div>\n",
       "<style scoped>\n",
       "    .dataframe tbody tr th:only-of-type {\n",
       "        vertical-align: middle;\n",
       "    }\n",
       "\n",
       "    .dataframe tbody tr th {\n",
       "        vertical-align: top;\n",
       "    }\n",
       "\n",
       "    .dataframe thead th {\n",
       "        text-align: right;\n",
       "    }\n",
       "</style>\n",
       "<table border=\"1\" class=\"dataframe\">\n",
       "  <thead>\n",
       "    <tr style=\"text-align: right;\">\n",
       "      <th></th>\n",
       "      <th>Class Name</th>\n",
       "      <th>Left-Weight</th>\n",
       "      <th>Left-Distance</th>\n",
       "      <th>Right-Weight</th>\n",
       "      <th>Right-Distance</th>\n",
       "    </tr>\n",
       "  </thead>\n",
       "  <tbody>\n",
       "    <tr>\n",
       "      <th>0</th>\n",
       "      <td>B</td>\n",
       "      <td>1</td>\n",
       "      <td>1</td>\n",
       "      <td>1</td>\n",
       "      <td>1</td>\n",
       "    </tr>\n",
       "    <tr>\n",
       "      <th>1</th>\n",
       "      <td>R</td>\n",
       "      <td>1</td>\n",
       "      <td>1</td>\n",
       "      <td>1</td>\n",
       "      <td>2</td>\n",
       "    </tr>\n",
       "    <tr>\n",
       "      <th>2</th>\n",
       "      <td>R</td>\n",
       "      <td>1</td>\n",
       "      <td>1</td>\n",
       "      <td>1</td>\n",
       "      <td>3</td>\n",
       "    </tr>\n",
       "    <tr>\n",
       "      <th>3</th>\n",
       "      <td>R</td>\n",
       "      <td>1</td>\n",
       "      <td>1</td>\n",
       "      <td>1</td>\n",
       "      <td>4</td>\n",
       "    </tr>\n",
       "    <tr>\n",
       "      <th>4</th>\n",
       "      <td>R</td>\n",
       "      <td>1</td>\n",
       "      <td>1</td>\n",
       "      <td>1</td>\n",
       "      <td>5</td>\n",
       "    </tr>\n",
       "  </tbody>\n",
       "</table>\n",
       "</div>"
      ],
      "text/plain": [
       "  Class Name  Left-Weight  Left-Distance  Right-Weight  Right-Distance\n",
       "0          B            1              1             1               1\n",
       "1          R            1              1             1               2\n",
       "2          R            1              1             1               3\n",
       "3          R            1              1             1               4\n",
       "4          R            1              1             1               5"
      ]
     },
     "execution_count": 49,
     "metadata": {},
     "output_type": "execute_result"
    }
   ],
   "source": [
    "df.head()"
   ]
  },
  {
   "cell_type": "code",
   "execution_count": 50,
   "metadata": {},
   "outputs": [
    {
     "data": {
      "text/plain": [
       "(625, 5)"
      ]
     },
     "execution_count": 50,
     "metadata": {},
     "output_type": "execute_result"
    }
   ],
   "source": [
    "df.shape"
   ]
  },
  {
   "cell_type": "code",
   "execution_count": 51,
   "metadata": {},
   "outputs": [
    {
     "name": "stdout",
     "output_type": "stream",
     "text": [
      "       Left-Weight  Left-Distance  Right-Weight  Right-Distance\n",
      "count   625.000000     625.000000    625.000000      625.000000\n",
      "mean      3.000000       3.000000      3.000000        3.000000\n",
      "std       1.415346       1.415346      1.415346        1.415346\n",
      "min       1.000000       1.000000      1.000000        1.000000\n",
      "25%       2.000000       2.000000      2.000000        2.000000\n",
      "50%       3.000000       3.000000      3.000000        3.000000\n",
      "75%       4.000000       4.000000      4.000000        4.000000\n",
      "max       5.000000       5.000000      5.000000        5.000000\n"
     ]
    }
   ],
   "source": [
    "print(df.describe())"
   ]
  },
  {
   "cell_type": "code",
   "execution_count": 52,
   "metadata": {},
   "outputs": [
    {
     "name": "stdout",
     "output_type": "stream",
     "text": [
      "Class Name\n",
      "B     49\n",
      "L    288\n",
      "R    288\n",
      "dtype: int64\n"
     ]
    }
   ],
   "source": [
    "print(df.groupby('Class Name').size())"
   ]
  },
  {
   "cell_type": "code",
   "execution_count": 53,
   "metadata": {},
   "outputs": [
    {
     "data": {
      "image/png": "[encoded data removed]",
      "text/plain": [
       "<Figure size 432x288 with 4 Axes>"
      ]
     },
     "metadata": {
      "needs_background": "light"
     },
     "output_type": "display_data"
    }
   ],
   "source": [
    "df.plot(kind='box', subplots=True, layout=(2,2), sharex=False, sharey=False)\n",
    "pyplot.show()"
   ]
  },
  {
   "cell_type": "code",
   "execution_count": 54,
   "metadata": {},
   "outputs": [
    {
     "data": {
      "image/png": "[encoded data removed]",
      "text/plain": [
       "<Figure size 432x288 with 4 Axes>"
      ]
     },
     "metadata": {
      "needs_background": "light"
     },
     "output_type": "display_data"
    }
   ],
   "source": [
    "df.hist()\n",
    "pyplot.show()"
   ]
  },
  {
   "cell_type": "code",
   "execution_count": 55,
   "metadata": {},
   "outputs": [
    {
     "data": {
      "image/png": "[encoded data removed]",
      "text/plain": [
       "<Figure size 432x288 with 16 Axes>"
      ]
     },
     "metadata": {
      "needs_background": "light"
     },
     "output_type": "display_data"
    }
   ],
   "source": [
    "scatter_matrix(df)\n",
    "pyplot.show()"
   ]
  },
  {
   "cell_type": "code",
   "execution_count": 56,
   "metadata": {},
   "outputs": [
    {
     "data": {
      "text/plain": [
       "Class Name        0\n",
       "Left-Weight       0\n",
       "Left-Distance     0\n",
       "Right-Weight      0\n",
       "Right-Distance    0\n",
       "dtype: int64"
      ]
     },
     "execution_count": 56,
     "metadata": {},
     "output_type": "execute_result"
    }
   ],
   "source": [
    "df.isnull().sum()"
   ]
  },
  {
   "cell_type": "code",
   "execution_count": 57,
   "metadata": {},
   "outputs": [
    {
     "data": {
      "text/html": [
       "<div>\n",
       "<style scoped>\n",
       "    .dataframe tbody tr th:only-of-type {\n",
       "        vertical-align: middle;\n",
       "    }\n",
       "\n",
       "    .dataframe tbody tr th {\n",
       "        vertical-align: top;\n",
       "    }\n",
       "\n",
       "    .dataframe thead th {\n",
       "        text-align: right;\n",
       "    }\n",
       "</style>\n",
       "<table border=\"1\" class=\"dataframe\">\n",
       "  <thead>\n",
       "    <tr style=\"text-align: right;\">\n",
       "      <th></th>\n",
       "      <th>Left-Weight</th>\n",
       "      <th>Left-Distance</th>\n",
       "      <th>Right-Weight</th>\n",
       "      <th>Right-Distance</th>\n",
       "    </tr>\n",
       "  </thead>\n",
       "  <tbody>\n",
       "    <tr>\n",
       "      <th>Left-Weight</th>\n",
       "      <td>1.0</td>\n",
       "      <td>0.0</td>\n",
       "      <td>0.0</td>\n",
       "      <td>0.0</td>\n",
       "    </tr>\n",
       "    <tr>\n",
       "      <th>Left-Distance</th>\n",
       "      <td>0.0</td>\n",
       "      <td>1.0</td>\n",
       "      <td>0.0</td>\n",
       "      <td>0.0</td>\n",
       "    </tr>\n",
       "    <tr>\n",
       "      <th>Right-Weight</th>\n",
       "      <td>0.0</td>\n",
       "      <td>0.0</td>\n",
       "      <td>1.0</td>\n",
       "      <td>0.0</td>\n",
       "    </tr>\n",
       "    <tr>\n",
       "      <th>Right-Distance</th>\n",
       "      <td>0.0</td>\n",
       "      <td>0.0</td>\n",
       "      <td>0.0</td>\n",
       "      <td>1.0</td>\n",
       "    </tr>\n",
       "  </tbody>\n",
       "</table>\n",
       "</div>"
      ],
      "text/plain": [
       "                Left-Weight  Left-Distance  Right-Weight  Right-Distance\n",
       "Left-Weight             1.0            0.0           0.0             0.0\n",
       "Left-Distance           0.0            1.0           0.0             0.0\n",
       "Right-Weight            0.0            0.0           1.0             0.0\n",
       "Right-Distance          0.0            0.0           0.0             1.0"
      ]
     },
     "execution_count": 57,
     "metadata": {},
     "output_type": "execute_result"
    }
   ],
   "source": [
    "dfcor = df.corr()\n",
    "dfcor"
   ]
  },
  {
   "cell_type": "code",
   "execution_count": 58,
   "metadata": {},
   "outputs": [],
   "source": [
    "from sklearn.preprocessing import LabelEncoder\n",
    "le = LabelEncoder()"
   ]
  },
  {
   "cell_type": "code",
   "execution_count": 59,
   "metadata": {},
   "outputs": [],
   "source": [
    "df['Class Name'] = le.fit_transform(df['Class Name'])"
   ]
  },
  {
   "cell_type": "code",
   "execution_count": 60,
   "metadata": {},
   "outputs": [
    {
     "data": {
      "text/plain": [
       "array([[2.20523001, 1.41421356, 1.41421356, 1.41421356, 1.41421356],\n",
       "       [0.98520693, 1.41421356, 1.41421356, 1.41421356, 0.70710678],\n",
       "       [0.98520693, 1.41421356, 1.41421356, 1.41421356, 0.        ],\n",
       "       ...,\n",
       "       [0.61001154, 1.41421356, 1.41421356, 1.41421356, 0.        ],\n",
       "       [0.61001154, 1.41421356, 1.41421356, 1.41421356, 0.70710678],\n",
       "       [2.20523001, 1.41421356, 1.41421356, 1.41421356, 1.41421356]])"
      ]
     },
     "execution_count": 60,
     "metadata": {},
     "output_type": "execute_result"
    }
   ],
   "source": [
    "from scipy.stats import zscore\n",
    "z = np.abs(zscore(df))\n",
    "z"
   ]
  },
  {
   "cell_type": "code",
   "execution_count": 61,
   "metadata": {},
   "outputs": [
    {
     "name": "stdout",
     "output_type": "stream",
     "text": [
      "(array([], dtype=int64), array([], dtype=int64))\n"
     ]
    }
   ],
   "source": [
    "threshold = 3\n",
    "print(np.where(z>3))"
   ]
  },
  {
   "cell_type": "code",
   "execution_count": 62,
   "metadata": {},
   "outputs": [
    {
     "name": "stdout",
     "output_type": "stream",
     "text": [
      "     Left-Weight  Left-Distance  Right-Weight  Right-Distance\n",
      "0              1              1             1               1\n",
      "1              1              1             1               2\n",
      "2              1              1             1               3\n",
      "3              1              1             1               4\n",
      "4              1              1             1               5\n",
      "5              1              1             2               1\n",
      "6              1              1             2               2\n",
      "7              1              1             2               3\n",
      "8              1              1             2               4\n",
      "9              1              1             2               5\n",
      "10             1              1             3               1\n",
      "11             1              1             3               2\n",
      "12             1              1             3               3\n",
      "13             1              1             3               4\n",
      "14             1              1             3               5\n",
      "15             1              1             4               1\n",
      "16             1              1             4               2\n",
      "17             1              1             4               3\n",
      "18             1              1             4               4\n",
      "19             1              1             4               5\n",
      "20             1              1             5               1\n",
      "21             1              1             5               2\n",
      "22             1              1             5               3\n",
      "23             1              1             5               4\n",
      "24             1              1             5               5\n",
      "25             1              2             1               1\n",
      "26             1              2             1               2\n",
      "27             1              2             1               3\n",
      "28             1              2             1               4\n",
      "29             1              2             1               5\n",
      "..           ...            ...           ...             ...\n",
      "595            5              4             5               1\n",
      "596            5              4             5               2\n",
      "597            5              4             5               3\n",
      "598            5              4             5               4\n",
      "599            5              4             5               5\n",
      "600            5              5             1               1\n",
      "601            5              5             1               2\n",
      "602            5              5             1               3\n",
      "603            5              5             1               4\n",
      "604            5              5             1               5\n",
      "605            5              5             2               1\n",
      "606            5              5             2               2\n",
      "607            5              5             2               3\n",
      "608            5              5             2               4\n",
      "609            5              5             2               5\n",
      "610            5              5             3               1\n",
      "611            5              5             3               2\n",
      "612            5              5             3               3\n",
      "613            5              5             3               4\n",
      "614            5              5             3               5\n",
      "615            5              5             4               1\n",
      "616            5              5             4               2\n",
      "617            5              5             4               3\n",
      "618            5              5             4               4\n",
      "619            5              5             4               5\n",
      "620            5              5             5               1\n",
      "621            5              5             5               2\n",
      "622            5              5             5               3\n",
      "623            5              5             5               4\n",
      "624            5              5             5               5\n",
      "\n",
      "[625 rows x 4 columns]\n",
      "0      0\n",
      "1      2\n",
      "2      2\n",
      "3      2\n",
      "4      2\n",
      "5      2\n",
      "6      2\n",
      "7      2\n",
      "8      2\n",
      "9      2\n",
      "10     2\n",
      "11     2\n",
      "12     2\n",
      "13     2\n",
      "14     2\n",
      "15     2\n",
      "16     2\n",
      "17     2\n",
      "18     2\n",
      "19     2\n",
      "20     2\n",
      "21     2\n",
      "22     2\n",
      "23     2\n",
      "24     2\n",
      "25     1\n",
      "26     0\n",
      "27     2\n",
      "28     2\n",
      "29     2\n",
      "      ..\n",
      "595    1\n",
      "596    1\n",
      "597    1\n",
      "598    0\n",
      "599    2\n",
      "600    1\n",
      "601    1\n",
      "602    1\n",
      "603    1\n",
      "604    1\n",
      "605    1\n",
      "606    1\n",
      "607    1\n",
      "608    1\n",
      "609    1\n",
      "610    1\n",
      "611    1\n",
      "612    1\n",
      "613    1\n",
      "614    1\n",
      "615    1\n",
      "616    1\n",
      "617    1\n",
      "618    1\n",
      "619    1\n",
      "620    1\n",
      "621    1\n",
      "622    1\n",
      "623    1\n",
      "624    0\n",
      "Name: Class Name, Length: 625, dtype: int32\n"
     ]
    }
   ],
   "source": [
    "\n",
    "X = df.iloc[:,1:5]\n",
    "Y = df.iloc[:,0]\n",
    "print(X)\n",
    "print(Y)\n",
    "X_train, X_test, Y_train, Y_test = train_test_split(X, Y, test_size=0.20, random_state=1)"
   ]
  },
  {
   "cell_type": "code",
   "execution_count": 63,
   "metadata": {},
   "outputs": [
    {
     "name": "stdout",
     "output_type": "stream",
     "text": [
      "LR: 0.871936 (0.031380)\n",
      "LDA: 0.883976 (0.025011)\n",
      "KNN: 0.831885 (0.034118)\n",
      "CART: 0.766020 (0.030636)\n",
      "NB: 0.905981 (0.020205)\n",
      "SVM: 0.899940 (0.018276)\n"
     ]
    }
   ],
   "source": [
    "models = []\n",
    "models.append(('LR', LogisticRegression(solver='liblinear', multi_class='ovr')))\n",
    "models.append(('LDA', LinearDiscriminantAnalysis()))\n",
    "models.append(('KNN', KNeighborsClassifier()))\n",
    "models.append(('CART', DecisionTreeClassifier()))\n",
    "models.append(('NB', GaussianNB()))\n",
    "models.append(('SVM', SVC(gamma='auto')))\n",
    "# evaluate each model in turn\n",
    "results = []\n",
    "names = []\n",
    "for name, model in models:\n",
    "    kfold = StratifiedKFold(n_splits=10, random_state=1)\n",
    "    cv_results = cross_val_score(model, X_train, Y_train, cv=kfold, scoring='accuracy')\n",
    "    results.append(cv_results)\n",
    "    names.append(name)\n",
    "    print('%s: %f (%f)' % (name, cv_results.mean(), cv_results.std()))"
   ]
  },
  {
   "cell_type": "code",
   "execution_count": 64,
   "metadata": {},
   "outputs": [],
   "source": [
    "model = GaussianNB()"
   ]
  },
  {
   "cell_type": "code",
   "execution_count": 65,
   "metadata": {},
   "outputs": [],
   "source": [
    "kfold = StratifiedKFold(n_splits=10, random_state=1)\n",
    "cv_results = cross_val_score(model, X_train, Y_train, cv=kfold, scoring='accuracy')"
   ]
  },
  {
   "cell_type": "code",
   "execution_count": 66,
   "metadata": {},
   "outputs": [
    {
     "data": {
      "text/plain": [
       "array([0.92307692, 0.9       , 0.92      , 0.86      , 0.9       ,\n",
       "       0.9       , 0.9       , 0.92      , 0.89795918, 0.93877551])"
      ]
     },
     "execution_count": 66,
     "metadata": {},
     "output_type": "execute_result"
    }
   ],
   "source": [
    "cv_results"
   ]
  },
  {
   "cell_type": "code",
   "execution_count": 67,
   "metadata": {},
   "outputs": [
    {
     "data": {
      "text/plain": [
       "0.9059811616954473"
      ]
     },
     "execution_count": 67,
     "metadata": {},
     "output_type": "execute_result"
    }
   ],
   "source": [
    "cv_results.mean()"
   ]
  },
  {
   "cell_type": "code",
   "execution_count": 68,
   "metadata": {},
   "outputs": [
    {
     "data": {
      "image/png": "[encoded data removed]",
      "text/plain": [
       "<Figure size 432x288 with 1 Axes>"
      ]
     },
     "metadata": {
      "needs_background": "light"
     },
     "output_type": "display_data"
    }
   ],
   "source": [
    "pyplot.boxplot(results, labels=names)\n",
    "pyplot.title('Algorithm Comparison')\n",
    "pyplot.show()"
   ]
  },
  {
   "cell_type": "code",
   "execution_count": 69,
   "metadata": {},
   "outputs": [],
   "source": [
    "\n",
    "model.fit(X_train, Y_train)\n",
    "predictions = model.predict(X_test)"
   ]
  },
  {
   "cell_type": "code",
   "execution_count": 70,
   "metadata": {},
   "outputs": [
    {
     "data": {
      "text/plain": [
       "array([1, 2, 2, 1, 1, 2, 1, 2, 1, 2, 2, 1, 1, 1, 1, 2, 2, 1, 1, 2, 1, 2,\n",
       "       2, 1, 1, 2, 1, 2, 2, 2, 1, 1, 2, 1, 2, 1, 2, 1, 2, 2, 2, 1, 1, 2,\n",
       "       2, 1, 2, 2, 2, 2, 2, 2, 2, 1, 1, 2, 1, 1, 2, 2, 1, 2, 2, 1, 1, 2,\n",
       "       1, 2, 2, 1, 1, 2, 1, 1, 2, 1, 2, 1, 1, 1, 1, 2, 2, 1, 2, 2, 1, 1,\n",
       "       1, 1, 1, 2, 1, 2, 1, 1, 2, 2, 1, 1, 1, 1, 2, 2, 1, 1, 2, 2, 2, 2,\n",
       "       2, 1, 2, 1, 1, 2, 1, 2, 2, 2, 1, 1, 1, 1, 2])"
      ]
     },
     "execution_count": 70,
     "metadata": {},
     "output_type": "execute_result"
    }
   ],
   "source": [
    "predictions"
   ]
  },
  {
   "cell_type": "code",
   "execution_count": 71,
   "metadata": {},
   "outputs": [
    {
     "name": "stdout",
     "output_type": "stream",
     "text": [
      "0.872\n",
      "[[ 0  5  6]\n",
      " [ 0 55  2]\n",
      " [ 0  3 54]]\n",
      "              precision    recall  f1-score   support\n",
      "\n",
      "           0       0.00      0.00      0.00        11\n",
      "           1       0.87      0.96      0.92        57\n",
      "           2       0.87      0.95      0.91        57\n",
      "\n",
      "    accuracy                           0.87       125\n",
      "   macro avg       0.58      0.64      0.61       125\n",
      "weighted avg       0.80      0.87      0.83       125\n",
      "\n"
     ]
    },
    {
     "name": "stderr",
     "output_type": "stream",
     "text": [
      "C:\\Users\\Amitesh.Patel\\Anaconda3\\lib\\site-packages\\sklearn\\metrics\\classification.py:1437: UndefinedMetricWarning: Precision and F-score are ill-defined and being set to 0.0 in labels with no predicted samples.\n",
      "  'precision', 'predicted', average, warn_for)\n"
     ]
    }
   ],
   "source": [
    "print(accuracy_score(Y_test, predictions))\n",
    "print(confusion_matrix(Y_test, predictions))\n",
    "print(classification_report(Y_test, predictions))"
   ]
  },
  {
   "cell_type": "code",
   "execution_count": 72,
   "metadata": {},
   "outputs": [
    {
     "name": "stdout",
     "output_type": "stream",
     "text": [
      "[2 2 2 2 2 2 2 2 2 2 2 2 2 2 2 2 2 2 2 2 2 2 2 2 2 2 2 2 2 2 2 2 2 2 2 2 2\n",
      " 2 2 2 2 2 2 2 2 2 2 2 2 2 1 2 2 2 2 2 2 2 2 2 2 2 2 2 2 2 2 2 2 2 2 2 2 2\n",
      " 2 1 1 2 2 2 1 1 1 2 2 2 1 2 2 2 2 2 2 2 2 2 2 2 2 2 1 1 1 2 2 1 2 1 1 2 2\n",
      " 1 2 2 2 2 1 2 2 2 2 2 2 2 2 1 2 2 2 2 2 2 2 2 2 2 2 2 2 2 2 2 2 2 2 2 2 2\n",
      " 2 2 1 1 2 2 2 1 2 2 2 2 2 2 2 2 2 2 2 2 2 2 2 2 2 2 2 1 1 1 2 2 1 1 2 2 2\n",
      " 1 1 2 2 2 1 2 2 2 2 2 2 2 2 2 1 1 1 1 1 1 1 1 2 2 1 1 1 2 2 1 1 2 2 2 1 2\n",
      " 2 2 2 1 1 1 1 1 1 1 1 1 1 1 1 1 1 2 1 1 1 2 2 1 1 2 2 2 1 1 2 2 2 1 2 2 2\n",
      " 2 2 2 2 2 2 2 2 2 2 2 2 2 2 2 2 1 1 1 2 2 1 1 2 2 2 1 2 2 2 2 2 2 2 2 2 2\n",
      " 2 2 2 2 1 1 1 1 1 1 1 1 1 2 1 1 2 2 2 1 1 2 2 2 1 2 2 2 2 1 1 1 1 1 1 1 1\n",
      " 1 1 1 1 1 1 2 1 1 1 2 2 1 1 2 2 2 1 1 1 1 1 1 1 1 1 1 1 1 1 1 1 1 1 1 1 2\n",
      " 1 1 1 2 2 1 1 1 1 2 1 1 2 2 2 1 2 2 2 2 1 2 2 2 2 2 2 2 2 2 1 1 1 1 1 1 1\n",
      " 1 1 2 1 1 1 2 2 1 1 2 2 2 1 2 2 2 2 1 1 1 1 1 1 1 1 1 1 1 1 1 1 2 1 1 1 2\n",
      " 2 1 1 2 2 2 1 1 1 1 1 1 1 1 1 1 1 1 1 1 1 1 1 1 1 2 1 1 2 2 2 1 1 1 1 1 1\n",
      " 1 1 1 1 1 1 1 1 1 1 1 1 1 1 1 1 1 1 2 1 1 1 2 1 1 1 1 1 1 1 1 1 1 2 2 1 1\n",
      " 2 2 1 1 2 2 2 1 1 1 1 1 1 1 1 1 1 1 1 1 1 1 1 1 1 1 2 1 1 1 2 2 1 1 1 1 1\n",
      " 1 1 1 1 1 1 1 1 1 1 1 1 1 1 1 1 1 1 1 2 1 1 1 1 1 1 1 1 1 1 1 1 1 1 1 1 1\n",
      " 1 1 1 1 1 1 1 1 1 1 1 1 1 1 1 1 1 1 1 1 1 1 1 1 1 1 1 1 1 1 1 1 1]\n"
     ]
    }
   ],
   "source": [
    "from sklearn.model_selection import cross_val_predict\n",
    "\n",
    "k_predictions = cross_val_predict(model, X, Y, cv=10)\n",
    "print(k_predictions)"
   ]
  },
  {
   "cell_type": "code",
   "execution_count": 73,
   "metadata": {},
   "outputs": [
    {
     "data": {
      "text/plain": [
       "[<matplotlib.lines.Line2D at 0x229f2033898>]"
      ]
     },
     "execution_count": 73,
     "metadata": {},
     "output_type": "execute_result"
    },
    {
     "data": {
      "image/png": "[encoded data removed]",
      "text/plain": [
       "<Figure size 432x288 with 1 Axes>"
      ]
     },
     "metadata": {
      "needs_background": "light"
     },
     "output_type": "display_data"
    }
   ],
   "source": [
    "import matplotlib\n",
    "from matplotlib import pyplot as plt\n",
    "import seaborn as sns\n",
    "plot_k = sns.scatterplot(Y, k_predictions)\n",
    "plot_k.set(xlabel='Given', ylabel='Prediction')\n",
    "# generate and graph y = x line\n",
    "x_plot = np.linspace(0,5,100)\n",
    "y_plot = x_plot\n",
    "plt.plot(x_plot, y_plot, color='r')"
   ]
  },
  {
   "cell_type": "code",
   "execution_count": 74,
   "metadata": {},
   "outputs": [
    {
     "name": "stdout",
     "output_type": "stream",
     "text": [
      "actual 552    1\n",
      "23     2\n",
      "41     2\n",
      "598    0\n",
      "370    1\n",
      "65     2\n",
      "406    1\n",
      "88     2\n",
      "595    1\n",
      "172    2\n",
      "494    0\n",
      "481    1\n",
      "430    1\n",
      "616    1\n",
      "577    1\n",
      "13     2\n",
      "261    2\n",
      "312    0\n",
      "107    2\n",
      "195    1\n",
      "622    1\n",
      "386    2\n",
      "82     2\n",
      "335    1\n",
      "526    1\n",
      "66     2\n",
      "531    1\n",
      "47     2\n",
      "395    2\n",
      "119    2\n",
      "      ..\n",
      "60     0\n",
      "165    0\n",
      "90     0\n",
      "440    1\n",
      "579    1\n",
      "568    2\n",
      "480    1\n",
      "439    2\n",
      "29     2\n",
      "438    0\n",
      "609    1\n",
      "292    2\n",
      "257    2\n",
      "224    2\n",
      "498    0\n",
      "289    2\n",
      "572    0\n",
      "92     2\n",
      "306    1\n",
      "103    1\n",
      "135    2\n",
      "350    1\n",
      "512    2\n",
      "120    0\n",
      "444    2\n",
      "482    1\n",
      "475    1\n",
      "80     1\n",
      "160    1\n",
      "392    2\n",
      "Name: Class Name, Length: 125, dtype: int32\n",
      "predicted [1 2 2 1 1 2 1 2 1 2 2 1 1 1 1 2 2 1 1 2 1 2 2 1 1 2 1 2 2 2 1 1 2 1 2 1 2\n",
      " 1 2 2 2 1 1 2 2 1 2 2 2 2 2 2 2 1 1 2 1 1 2 2 1 2 2 1 1 2 1 2 2 1 1 2 1 1\n",
      " 2 1 2 1 1 1 1 2 2 1 2 2 1 1 1 1 1 2 1 2 1 1 2 2 1 1 1 1 2 2 1 1 2 2 2 2 2\n",
      " 1 2 1 1 2 1 2 2 2 1 1 1 1 2]\n"
     ]
    }
   ],
   "source": [
    "print('actual',Y_test)\n",
    "print('predicted',predictions)"
   ]
  },
  {
   "cell_type": "code",
   "execution_count": 75,
   "metadata": {},
   "outputs": [
    {
     "name": "stderr",
     "output_type": "stream",
     "text": [
      "C:\\Users\\Amitesh.Patel\\Anaconda3\\lib\\site-packages\\sklearn\\externals\\joblib\\__init__.py:15: DeprecationWarning: sklearn.externals.joblib is deprecated in 0.21 and will be removed in 0.23. Please import this functionality directly from joblib, which can be installed with: pip install joblib. If this warning is raised when loading pickled models, you may need to re-serialize those models with scikit-learn 0.21+.\n",
      "  warnings.warn(msg, category=DeprecationWarning)\n"
     ]
    },
    {
     "data": {
      "text/plain": [
       "['Project22_Balancescale.pkl']"
      ]
     },
     "execution_count": 75,
     "metadata": {},
     "output_type": "execute_result"
    }
   ],
   "source": [
    "from sklearn.externals import joblib\n",
    "joblib.dump(model,'Project22_Balancescale.pkl')"
   ]
  },
  {
   "cell_type": "code",
   "execution_count": null,
   "metadata": {},
   "outputs": [],
   "source": []
  }
 ],
 "metadata": {
  "kernelspec": {
   "display_name": "Python 3",
   "language": "python",
   "name": "python3"
  },
  "language_info": {
   "codemirror_mode": {
    "name": "ipython",
    "version": 3
   },
   "file_extension": ".py",
   "mimetype": "text/x-python",
   "name": "python",
   "nbconvert_exporter": "python",
   "pygments_lexer": "ipython3",
   "version": "3.7.3"
  }
 },
 "nbformat": 4,
 "nbformat_minor": 2
}
